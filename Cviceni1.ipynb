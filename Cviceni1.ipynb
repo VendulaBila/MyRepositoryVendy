{
 "cells": [
  {
   "cell_type": "markdown",
   "metadata": {
    "tags": []
   },
   "source": [
    "# Cvičení 1\n",
    "Toto jsou základní ukázky práce s Jupyter Notebookem a Python skriptem.\n",
    "Určeno pro předmět KGI/PROPY.\n",
    "Popis předmětu je na https://stag.upol.cz/portal\n",
    "***********************************************************************\n",
    "## První buňka:"
   ]
  },
  {
   "cell_type": "code",
   "execution_count": 1,
   "metadata": {},
   "outputs": [
    {
     "name": "stdout",
     "output_type": "stream",
     "text": [
      "[1, 8, 56]\n",
      "1\n"
     ]
    }
   ],
   "source": [
    "MyList=[1,8,56] # seznam čísel\n",
    "print(MyList)\n",
    "print(MyList[0])\n"
   ]
  },
  {
   "cell_type": "markdown",
   "metadata": {},
   "source": [
    "### Cyklus - nadpis 3. úroveň"
   ]
  },
  {
   "cell_type": "code",
   "execution_count": 2,
   "metadata": {},
   "outputs": [
    {
     "name": "stdout",
     "output_type": "stream",
     "text": [
      "1\n",
      "8\n",
      "56\n"
     ]
    }
   ],
   "source": [
    "for i in range (0,len(MyList)):\n",
    "    print(MyList[i])"
   ]
  }
 ],
 "metadata": {
  "kernelspec": {
   "display_name": "ArcGISPro",
   "language": "Python",
   "name": "python3"
  },
  "language_info": {
   "file_extension": ".py",
   "name": "python",
   "version": "3"
  }
 },
 "nbformat": 4,
 "nbformat_minor": 4
}
